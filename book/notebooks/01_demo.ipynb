{
 "cells": [
  {
   "cell_type": "markdown",
   "id": "d6e1959a",
   "metadata": {},
   "source": [
    "# 01_demo — Notebook de test"
   ]
  },
  {
   "cell_type": "code",
   "execution_count": null,
   "id": "e73727cb",
   "metadata": {
    "vscode": {
     "languageId": "plaintext"
    }
   },
   "outputs": [],
   "source": [
    "# Init vérification Thebe/Binder\n",
    "import sys, platform\n",
    "print(\"Python:\", sys.version.split()[0], \"|\", platform.platform())\n",
    "\n",
    "import numpy as np, pandas as pd, matplotlib\n",
    "print(\"NumPy:\", np.__version__, \"| Pandas:\", pd.__version__, \"| Matplotlib:\", matplotlib.__version__)\n"
   ]
  },
  {
   "cell_type": "code",
   "execution_count": null,
   "id": "90d39573",
   "metadata": {
    "vscode": {
     "languageId": "plaintext"
    }
   },
   "outputs": [],
   "source": [
    "# Initialisation \n",
    "import sys, platform\n",
    "import numpy as np\n",
    "import pandas as pd\n",
    "\n",
    "print(\"Python:\", sys.version.split()[0])\n",
    "print(\"NumPy:\", np.__version__, \"| Pandas:\", pd.__version__)\n",
    "print(\"Platform:\", platform.platform())\n",
    "\n",
    "np.random.seed(0)\n"
   ]
  },
  {
   "cell_type": "markdown",
   "id": "0e071509",
   "metadata": {},
   "source": [
    "# 01_demo — Notebook de test"
   ]
  },
  {
   "cell_type": "code",
   "execution_count": null,
   "id": "e3ba9ec3",
   "metadata": {
    "vscode": {
     "languageId": "plaintext"
    }
   },
   "outputs": [],
   "source": [
    "import numpy as np\n",
    "import matplotlib.pyplot as plt\n",
    "\n",
    "x = np.linspace(0, 2*np.pi, 200)\n",
    "y = np.sin(x)\n",
    "\n",
    "plt.figure()\n",
    "plt.plot(x, y)\n",
    "plt.title(\"sin(x)\")\n",
    "plt.xlabel(\"x\")\n",
    "plt.ylabel(\"y\")\n",
    "plt.show()\n"
   ]
  },
  {
   "cell_type": "markdown",
   "id": "1241ca2f",
   "metadata": {},
   "source": [
    "# 01_demo — Notebook de test"
   ]
  },
  {
   "cell_type": "code",
   "execution_count": null,
   "id": "0d5faa44",
   "metadata": {
    "vscode": {
     "languageId": "plaintext"
    }
   },
   "outputs": [],
   "source": [
    "import pandas as pd\n",
    "from IPython.display import display\n",
    "\n",
    "df = pd.DataFrame({\"a\": [1, 2, 3, 4], \"b\": [10, 20, 10, 30]})\n",
    "display(df)\n",
    "df.describe()\n"
   ]
  },
  {
   "cell_type": "markdown",
   "id": "741bdae7",
   "metadata": {},
   "source": [
    "# 01_demo — Notebook de test"
   ]
  },
  {
   "cell_type": "code",
   "execution_count": null,
   "id": "aa72dc58",
   "metadata": {
    "vscode": {
     "languageId": "plaintext"
    }
   },
   "outputs": [],
   "source": [
    "from sklearn.datasets import load_iris\n",
    "from sklearn.model_selection import train_test_split\n",
    "from sklearn.linear_model import LogisticRegression\n",
    "from sklearn.metrics import accuracy_score\n",
    "\n",
    "X, y = load_iris(return_X_y=True)\n",
    "Xtr, Xte, ytr, yte = train_test_split(X, y, test_size=0.2, random_state=0)\n",
    "\n",
    "clf = LogisticRegression(max_iter=200)\n",
    "clf.fit(Xtr, ytr)\n",
    "pred = clf.predict(Xte)\n",
    "print(\"Accuracy:\", accuracy_score(yte, pred))\n"
   ]
  }
 ],
 "metadata": {
  "language_info": {
   "name": "python"
  }
 },
 "nbformat": 4,
 "nbformat_minor": 5
}
